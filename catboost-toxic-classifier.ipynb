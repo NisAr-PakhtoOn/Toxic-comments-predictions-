{
 "cells": [
  {
   "cell_type": "code",
   "execution_count": 1,
   "id": "8a7b6c75",
   "metadata": {
    "_cell_guid": "b1076dfc-b9ad-4769-8c92-a6c4dae69d19",
    "_uuid": "8f2839f25d086af736a60e9eeb907d3b93b6e0e5",
    "execution": {
     "iopub.execute_input": "2022-03-14T16:26:25.507578Z",
     "iopub.status.busy": "2022-03-14T16:26:25.506846Z",
     "iopub.status.idle": "2022-03-14T16:26:25.513495Z",
     "shell.execute_reply": "2022-03-14T16:26:25.512849Z",
     "shell.execute_reply.started": "2022-03-14T15:45:16.849034Z"
    },
    "papermill": {
     "duration": 0.040723,
     "end_time": "2022-03-14T16:26:25.513681",
     "exception": false,
     "start_time": "2022-03-14T16:26:25.472958",
     "status": "completed"
    },
    "tags": []
   },
   "outputs": [],
   "source": [
    "import numpy as np # linear algebra\n",
    "import pandas as pd # data processing, CSV file I/O (e.g. pd.read_csv)"
   ]
  },
  {
   "cell_type": "code",
   "execution_count": 9,
   "id": "29c344e8",
   "metadata": {
    "execution": {
     "iopub.execute_input": "2022-03-14T16:26:25.566702Z",
     "iopub.status.busy": "2022-03-14T16:26:25.566029Z",
     "iopub.status.idle": "2022-03-14T16:26:26.621777Z",
     "shell.execute_reply": "2022-03-14T16:26:26.621221Z",
     "shell.execute_reply.started": "2022-03-14T15:45:16.882984Z"
    },
    "papermill": {
     "duration": 1.083166,
     "end_time": "2022-03-14T16:26:26.621972",
     "exception": false,
     "start_time": "2022-03-14T16:26:25.538806",
     "status": "completed"
    },
    "tags": []
   },
   "outputs": [],
   "source": [
    "import re\n",
    "\n",
    "from catboost import CatBoostClassifier, Pool\n",
    "from catboost.text_processing import Tokenizer, Dictionary\n",
    "\n",
    "from sklearn.model_selection import train_test_split\n",
    "from sklearn.metrics import roc_auc_score"
   ]
  },
  {
   "cell_type": "code",
   "execution_count": 3,
   "id": "07b93ac5",
   "metadata": {
    "execution": {
     "iopub.execute_input": "2022-03-14T16:26:26.680534Z",
     "iopub.status.busy": "2022-03-14T16:26:26.679786Z",
     "iopub.status.idle": "2022-03-14T16:26:26.683004Z",
     "shell.execute_reply": "2022-03-14T16:26:26.683395Z",
     "shell.execute_reply.started": "2022-03-14T15:45:17.949259Z"
    },
    "papermill": {
     "duration": 0.035449,
     "end_time": "2022-03-14T16:26:26.683511",
     "exception": false,
     "start_time": "2022-03-14T16:26:26.648062",
     "status": "completed"
    },
    "tags": []
   },
   "outputs": [
    {
     "data": {
      "text/plain": [
       "'1.0.4'"
      ]
     },
     "execution_count": 3,
     "metadata": {},
     "output_type": "execute_result"
    }
   ],
   "source": [
    "import catboost\n",
    "catboost.__version__"
   ]
  },
  {
   "cell_type": "markdown",
   "id": "ba9effd2",
   "metadata": {
    "papermill": {
     "duration": 0.039963,
     "end_time": "2022-03-14T16:26:26.766388",
     "exception": false,
     "start_time": "2022-03-14T16:26:26.726425",
     "status": "completed"
    },
    "tags": []
   },
   "source": [
    "# Constants"
   ]
  },
  {
   "cell_type": "code",
   "execution_count": 12,
   "id": "e965ba03",
   "metadata": {
    "execution": {
     "iopub.execute_input": "2022-03-14T16:26:26.839478Z",
     "iopub.status.busy": "2022-03-14T16:26:26.838504Z",
     "iopub.status.idle": "2022-03-14T16:26:26.840461Z",
     "shell.execute_reply": "2022-03-14T16:26:26.841009Z",
     "shell.execute_reply.started": "2022-03-14T15:45:17.960297Z"
    },
    "papermill": {
     "duration": 0.034012,
     "end_time": "2022-03-14T16:26:26.841184",
     "exception": false,
     "start_time": "2022-03-14T16:26:26.807172",
     "status": "completed"
    },
    "tags": []
   },
   "outputs": [],
   "source": [
    "SEED = 42\n",
    "y_label = ['toxic', 'severe_toxic', 'obscene', 'threat', 'insult', 'identity_hate']"
   ]
  },
  {
   "cell_type": "markdown",
   "id": "e1782a34",
   "metadata": {
    "papermill": {
     "duration": 0.026073,
     "end_time": "2022-03-14T16:26:26.893278",
     "exception": false,
     "start_time": "2022-03-14T16:26:26.867205",
     "status": "completed"
    },
    "tags": []
   },
   "source": [
    "# Load Data"
   ]
  },
  {
   "cell_type": "code",
   "execution_count": 6,
   "id": "799921f0",
   "metadata": {
    "execution": {
     "iopub.execute_input": "2022-03-14T16:26:26.950638Z",
     "iopub.status.busy": "2022-03-14T16:26:26.950023Z",
     "iopub.status.idle": "2022-03-14T16:26:30.777927Z",
     "shell.execute_reply": "2022-03-14T16:26:30.777409Z",
     "shell.execute_reply.started": "2022-03-14T15:45:17.967846Z"
    },
    "papermill": {
     "duration": 3.8585,
     "end_time": "2022-03-14T16:26:30.778067",
     "exception": false,
     "start_time": "2022-03-14T16:26:26.919567",
     "status": "completed"
    },
    "tags": []
   },
   "outputs": [],
   "source": [
    "src = pd.read_csv('data_train_clean.csv')\n",
    "test_src = pd.read_csv('data_test_clean.csv')"
   ]
  },
  {
   "cell_type": "markdown",
   "id": "5e6ffb2c",
   "metadata": {
    "papermill": {
     "duration": 0.023496,
     "end_time": "2022-03-14T16:26:30.825619",
     "exception": false,
     "start_time": "2022-03-14T16:26:30.802123",
     "status": "completed"
    },
    "tags": []
   },
   "source": [
    "# Preprocessing"
   ]
  },
  {
   "cell_type": "code",
   "execution_count": 7,
   "id": "00e6240b",
   "metadata": {
    "execution": {
     "iopub.execute_input": "2022-03-14T16:26:30.883733Z",
     "iopub.status.busy": "2022-03-14T16:26:30.882825Z",
     "iopub.status.idle": "2022-03-14T16:26:30.885525Z",
     "shell.execute_reply": "2022-03-14T16:26:30.885074Z",
     "shell.execute_reply.started": "2022-03-14T15:45:22.018104Z"
    },
    "papermill": {
     "duration": 0.036323,
     "end_time": "2022-03-14T16:26:30.885664",
     "exception": false,
     "start_time": "2022-03-14T16:26:30.849341",
     "status": "completed"
    },
    "tags": []
   },
   "outputs": [],
   "source": [
    "def cleanString(comment: str) -> str:\n",
    "    comment = re.sub('n\\'t', '', comment)\n",
    "    comment = re.sub('\\'m', '', comment)\n",
    "    comment = re.sub('\\'ve', '', comment)\n",
    "    # comment = re.sub(' to', '', comment)\n",
    "    # comment = re.sub('the', '', comment)\n",
    "    comment = re.sub('\\'s', '', comment)\n",
    "    comment = re.sub(' is', '', comment)\n",
    "    comment = re.sub(' are', '', comment)\n",
    "    comment = re.sub(' have', '', comment)\n",
    "    comment = re.sub(' has', '', comment)\n",
    "    comment = re.sub(' a', '', comment)\n",
    "    comment = re.sub(' the', '', comment)\n",
    "\n",
    "\n",
    "    comment = comment.replace('\\n', ' \\n ')\n",
    "    comment = comment.replace(r'([*!?\\'])\\1\\1{2,}',r'\\1\\1\\1')    \n",
    "    comment = comment.replace(r'[0-9]', '')\n",
    "    # remove punctuation and numbers\n",
    "    # comment = re.sub('[^a-zA-Z!?%]', ' ', comment)\n",
    "    comment = re.sub('[^a-zA-Z%]', ' ', comment)\n",
    "    # del %\n",
    "    comment = re.sub('%', '', comment)\n",
    "    # remove multiple spaces\n",
    "    comment = re.sub(r' +', ' ', comment)\n",
    "    # remove newline\n",
    "    comment = re.sub(r'\\n', ' ', comment)\n",
    "    # remove digits\n",
    "    # comment = ''.join(i for i in comment if not i.isdigit())\n",
    "    comment = re.sub(r' +', ' ', comment)\n",
    "    comment = comment.strip()\n",
    "    return comment"
   ]
  },
  {
   "cell_type": "code",
   "execution_count": 10,
   "id": "0ee9daee",
   "metadata": {
    "execution": {
     "iopub.execute_input": "2022-03-14T16:26:31.013517Z",
     "iopub.status.busy": "2022-03-14T16:26:30.987801Z",
     "iopub.status.idle": "2022-03-14T16:27:00.796708Z",
     "shell.execute_reply": "2022-03-14T16:27:00.795743Z",
     "shell.execute_reply.started": "2022-03-14T16:20:58.159278Z"
    },
    "papermill": {
     "duration": 29.88429,
     "end_time": "2022-03-14T16:27:00.796863",
     "exception": false,
     "start_time": "2022-03-14T16:26:30.912573",
     "status": "completed"
    },
    "tags": []
   },
   "outputs": [],
   "source": [
    "src.clean_comment = src.clean_comment.map(cleanString)\n",
    "test_src.clean_comment = test_src.clean_comment.map(cleanString)"
   ]
  },
  {
   "cell_type": "code",
   "execution_count": 13,
   "id": "0c29869e",
   "metadata": {
    "execution": {
     "iopub.execute_input": "2022-03-14T16:27:00.853448Z",
     "iopub.status.busy": "2022-03-14T16:27:00.852732Z",
     "iopub.status.idle": "2022-03-14T16:27:00.871073Z",
     "shell.execute_reply": "2022-03-14T16:27:00.870582Z",
     "shell.execute_reply.started": "2022-03-14T15:45:37.754321Z"
    },
    "papermill": {
     "duration": 0.048404,
     "end_time": "2022-03-14T16:27:00.871202",
     "exception": false,
     "start_time": "2022-03-14T16:27:00.822798",
     "status": "completed"
    },
    "tags": []
   },
   "outputs": [
    {
     "data": {
      "text/html": [
       "<div>\n",
       "<style scoped>\n",
       "    .dataframe tbody tr th:only-of-type {\n",
       "        vertical-align: middle;\n",
       "    }\n",
       "\n",
       "    .dataframe tbody tr th {\n",
       "        vertical-align: top;\n",
       "    }\n",
       "\n",
       "    .dataframe thead th {\n",
       "        text-align: right;\n",
       "    }\n",
       "</style>\n",
       "<table border=\"1\" class=\"dataframe\">\n",
       "  <thead>\n",
       "    <tr style=\"text-align: right;\">\n",
       "      <th></th>\n",
       "      <th>Unnamed: 0</th>\n",
       "      <th>id</th>\n",
       "      <th>clean_comment</th>\n",
       "      <th>toxic</th>\n",
       "      <th>severe_toxic</th>\n",
       "      <th>obscene</th>\n",
       "      <th>threat</th>\n",
       "      <th>insult</th>\n",
       "      <th>identity_hate</th>\n",
       "    </tr>\n",
       "  </thead>\n",
       "  <tbody>\n",
       "    <tr>\n",
       "      <th>96708</th>\n",
       "      <td>92945</td>\n",
       "      <td>f887d88d2f290304</td>\n",
       "      <td>b nswer to m xc xbctze here m xc xbctze questi...</td>\n",
       "      <td>0</td>\n",
       "      <td>0</td>\n",
       "      <td>0</td>\n",
       "      <td>0</td>\n",
       "      <td>0</td>\n",
       "      <td>0</td>\n",
       "    </tr>\n",
       "    <tr>\n",
       "      <th>28033</th>\n",
       "      <td>67099</td>\n",
       "      <td>b3859ebf00f82cb9</td>\n",
       "      <td>b yes yes we want to make more episodes for th...</td>\n",
       "      <td>0</td>\n",
       "      <td>0</td>\n",
       "      <td>0</td>\n",
       "      <td>0</td>\n",
       "      <td>0</td>\n",
       "      <td>0</td>\n",
       "    </tr>\n",
       "    <tr>\n",
       "      <th>96254</th>\n",
       "      <td>120877</td>\n",
       "      <td>86b66414765e1fe6</td>\n",
       "      <td>b rudeccusations you one making falseccusation...</td>\n",
       "      <td>0</td>\n",
       "      <td>0</td>\n",
       "      <td>0</td>\n",
       "      <td>0</td>\n",
       "      <td>0</td>\n",
       "      <td>0</td>\n",
       "    </tr>\n",
       "    <tr>\n",
       "      <th>1841</th>\n",
       "      <td>86236</td>\n",
       "      <td>e6a18182c0af24ea</td>\n",
       "      <td>b valigntop june straits chinese recreation cl...</td>\n",
       "      <td>0</td>\n",
       "      <td>0</td>\n",
       "      <td>0</td>\n",
       "      <td>0</td>\n",
       "      <td>0</td>\n",
       "      <td>0</td>\n",
       "    </tr>\n",
       "    <tr>\n",
       "      <th>47528</th>\n",
       "      <td>24539</td>\n",
       "      <td>40d4bc848e533b85</td>\n",
       "      <td>b wow ericbtw dont you like hentai too eww low...</td>\n",
       "      <td>0</td>\n",
       "      <td>0</td>\n",
       "      <td>0</td>\n",
       "      <td>0</td>\n",
       "      <td>0</td>\n",
       "      <td>0</td>\n",
       "    </tr>\n",
       "  </tbody>\n",
       "</table>\n",
       "</div>"
      ],
      "text/plain": [
       "       Unnamed: 0                id  \\\n",
       "96708       92945  f887d88d2f290304   \n",
       "28033       67099  b3859ebf00f82cb9   \n",
       "96254      120877  86b66414765e1fe6   \n",
       "1841        86236  e6a18182c0af24ea   \n",
       "47528       24539  40d4bc848e533b85   \n",
       "\n",
       "                                           clean_comment  toxic  severe_toxic  \\\n",
       "96708  b nswer to m xc xbctze here m xc xbctze questi...      0             0   \n",
       "28033  b yes yes we want to make more episodes for th...      0             0   \n",
       "96254  b rudeccusations you one making falseccusation...      0             0   \n",
       "1841   b valigntop june straits chinese recreation cl...      0             0   \n",
       "47528  b wow ericbtw dont you like hentai too eww low...      0             0   \n",
       "\n",
       "       obscene  threat  insult  identity_hate  \n",
       "96708        0       0       0              0  \n",
       "28033        0       0       0              0  \n",
       "96254        0       0       0              0  \n",
       "1841         0       0       0              0  \n",
       "47528        0       0       0              0  "
      ]
     },
     "execution_count": 13,
     "metadata": {},
     "output_type": "execute_result"
    }
   ],
   "source": [
    "src.sample(5, random_state=SEED)"
   ]
  },
  {
   "cell_type": "markdown",
   "id": "80e5e852",
   "metadata": {
    "papermill": {
     "duration": 0.025986,
     "end_time": "2022-03-14T16:27:00.923184",
     "exception": false,
     "start_time": "2022-03-14T16:27:00.897198",
     "status": "completed"
    },
    "tags": []
   },
   "source": [
    "# Tokenizer"
   ]
  },
  {
   "cell_type": "code",
   "execution_count": 15,
   "id": "0d5702bd",
   "metadata": {
    "execution": {
     "iopub.execute_input": "2022-03-14T16:27:00.981641Z",
     "iopub.status.busy": "2022-03-14T16:27:00.980980Z",
     "iopub.status.idle": "2022-03-14T16:27:00.983812Z",
     "shell.execute_reply": "2022-03-14T16:27:00.984255Z",
     "shell.execute_reply.started": "2022-03-14T15:45:37.775651Z"
    },
    "papermill": {
     "duration": 0.034628,
     "end_time": "2022-03-14T16:27:00.984388",
     "exception": false,
     "start_time": "2022-03-14T16:27:00.949760",
     "status": "completed"
    },
    "tags": []
   },
   "outputs": [
    {
     "data": {
      "text/plain": [
       "'b although igree with block i do not thinkrchiving within couple of hours would be wise it resulted in turmoil before maybefter few more hours or something'"
      ]
     },
     "execution_count": 15,
     "metadata": {},
     "output_type": "execute_result"
    }
   ],
   "source": [
    "src.iloc[13164].clean_comment"
   ]
  },
  {
   "cell_type": "code",
   "execution_count": 10,
   "id": "6890cb23",
   "metadata": {
    "execution": {
     "iopub.execute_input": "2022-03-14T16:27:01.041566Z",
     "iopub.status.busy": "2022-03-14T16:27:01.040692Z",
     "iopub.status.idle": "2022-03-14T16:27:01.042593Z",
     "shell.execute_reply": "2022-03-14T16:27:01.043057Z",
     "shell.execute_reply.started": "2022-03-14T15:45:37.784182Z"
    },
    "papermill": {
     "duration": 0.032495,
     "end_time": "2022-03-14T16:27:01.043201",
     "exception": false,
     "start_time": "2022-03-14T16:27:01.010706",
     "status": "completed"
    },
    "tags": []
   },
   "outputs": [],
   "source": [
    "# tokenizer = Tokenizer(lowercasing=True,\n",
    "#                       number_process_policy=None,\n",
    "#                       separator_type='BySense',\n",
    "#                       skip_empty=True,\n",
    "#                       token_types=['Word'],\n",
    "#                       sub_tokens_policy='SeveralTokens')"
   ]
  },
  {
   "cell_type": "code",
   "execution_count": 11,
   "id": "0bbcf319",
   "metadata": {
    "execution": {
     "iopub.execute_input": "2022-03-14T16:27:01.099365Z",
     "iopub.status.busy": "2022-03-14T16:27:01.098548Z",
     "iopub.status.idle": "2022-03-14T16:27:01.101089Z",
     "shell.execute_reply": "2022-03-14T16:27:01.100647Z",
     "shell.execute_reply.started": "2022-03-14T15:45:37.795199Z"
    },
    "papermill": {
     "duration": 0.031871,
     "end_time": "2022-03-14T16:27:01.101197",
     "exception": false,
     "start_time": "2022-03-14T16:27:01.069326",
     "status": "completed"
    },
    "tags": []
   },
   "outputs": [],
   "source": [
    "# tokenizer.tokenize(src.iloc[131631].comment_text)"
   ]
  },
  {
   "cell_type": "code",
   "execution_count": 16,
   "id": "119ae83d",
   "metadata": {
    "execution": {
     "iopub.execute_input": "2022-03-14T16:27:01.158855Z",
     "iopub.status.busy": "2022-03-14T16:27:01.157980Z",
     "iopub.status.idle": "2022-03-14T16:27:01.160620Z",
     "shell.execute_reply": "2022-03-14T16:27:01.160166Z",
     "shell.execute_reply.started": "2022-03-14T16:05:46.175570Z"
    },
    "papermill": {
     "duration": 0.033529,
     "end_time": "2022-03-14T16:27:01.160731",
     "exception": false,
     "start_time": "2022-03-14T16:27:01.127202",
     "status": "completed"
    },
    "tags": []
   },
   "outputs": [],
   "source": [
    "text_proc_param = {\n",
    "    'tokenizers': [{'tokenizer_id': 'Sense',\n",
    "                    'separator_type': 'BySense',\n",
    "                    'lowercasing': 'True',\n",
    "                    'token_types':['Word'],\n",
    "                    'sub_tokens_policy':'SeveralTokens'}],\n",
    "    'dictionaries': [{'dictionary_id': 'Word',\n",
    "                      'max_dictionary_size': '4000'}],\n",
    "    'feature_calcers': ['BoW:top_tokens_count=3000']\n",
    "}"
   ]
  },
  {
   "cell_type": "markdown",
   "id": "bac95671",
   "metadata": {
    "papermill": {
     "duration": 0.026569,
     "end_time": "2022-03-14T16:27:01.214159",
     "exception": false,
     "start_time": "2022-03-14T16:27:01.187590",
     "status": "completed"
    },
    "tags": []
   },
   "source": [
    "# Train test split"
   ]
  },
  {
   "cell_type": "code",
   "execution_count": 17,
   "id": "eb18df3c",
   "metadata": {
    "execution": {
     "iopub.execute_input": "2022-03-14T16:27:01.275811Z",
     "iopub.status.busy": "2022-03-14T16:27:01.274930Z",
     "iopub.status.idle": "2022-03-14T16:27:01.314217Z",
     "shell.execute_reply": "2022-03-14T16:27:01.314672Z",
     "shell.execute_reply.started": "2022-03-14T15:45:37.811079Z"
    },
    "papermill": {
     "duration": 0.072716,
     "end_time": "2022-03-14T16:27:01.314839",
     "exception": false,
     "start_time": "2022-03-14T16:27:01.242123",
     "status": "completed"
    },
    "tags": []
   },
   "outputs": [
    {
     "name": "stdout",
     "output_type": "stream",
     "text": [
      "train shape: (94944, 9)\n",
      "valid shape: (8377, 9)\n",
      "test  shape: (8378, 9)\n"
     ]
    }
   ],
   "source": [
    "df_train, df_test = train_test_split(src, test_size=0.15, random_state=SEED)\n",
    "df_val, df_test = train_test_split(df_test, test_size=0.5, random_state=SEED)\n",
    "\n",
    "print('train shape:', df_train.shape)\n",
    "print('valid shape:', df_val.shape)\n",
    "print('test  shape:', df_test.shape)"
   ]
  },
  {
   "cell_type": "code",
   "execution_count": 18,
   "id": "4a0a6375",
   "metadata": {
    "execution": {
     "iopub.execute_input": "2022-03-14T16:27:01.422776Z",
     "iopub.status.busy": "2022-03-14T16:27:01.421902Z",
     "iopub.status.idle": "2022-03-14T16:27:02.188055Z",
     "shell.execute_reply": "2022-03-14T16:27:02.186992Z",
     "shell.execute_reply.started": "2022-03-14T15:45:37.859954Z"
    },
    "papermill": {
     "duration": 0.835216,
     "end_time": "2022-03-14T16:27:02.188199",
     "exception": false,
     "start_time": "2022-03-14T16:27:01.352983",
     "status": "completed"
    },
    "tags": []
   },
   "outputs": [],
   "source": [
    "train_pools = dict()\n",
    "val_pools = dict()\n",
    "oos_pools = dict()\n",
    "for label in y_label:\n",
    "    train_pools[label] = Pool(df_train[['clean_comment']], label=df_train[label], text_features=['clean_comment'])\n",
    "    val_pools[label] = Pool(df_val[['clean_comment']], label=df_val[label], text_features=['clean_comment'])\n",
    "    oos_pools[label] = Pool(df_test[['clean_comment']], label=df_test[label], text_features=['clean_comment'])"
   ]
  },
  {
   "cell_type": "code",
   "execution_count": 19,
   "id": "674076c7",
   "metadata": {
    "execution": {
     "iopub.execute_input": "2022-03-14T16:27:02.244746Z",
     "iopub.status.busy": "2022-03-14T16:27:02.243881Z",
     "iopub.status.idle": "2022-03-14T16:27:02.246882Z",
     "shell.execute_reply": "2022-03-14T16:27:02.247281Z",
     "shell.execute_reply.started": "2022-03-14T15:45:38.463952Z"
    },
    "papermill": {
     "duration": 0.033994,
     "end_time": "2022-03-14T16:27:02.247401",
     "exception": false,
     "start_time": "2022-03-14T16:27:02.213407",
     "status": "completed"
    },
    "tags": []
   },
   "outputs": [
    {
     "data": {
      "text/plain": [
       "{'toxic': <catboost.core.Pool at 0x24e9da02be0>,\n",
       " 'severe_toxic': <catboost.core.Pool at 0x24e9da02ca0>,\n",
       " 'obscene': <catboost.core.Pool at 0x24e9da02760>,\n",
       " 'threat': <catboost.core.Pool at 0x24e9da02fa0>,\n",
       " 'insult': <catboost.core.Pool at 0x24e9fcadb80>,\n",
       " 'identity_hate': <catboost.core.Pool at 0x24e9da02820>}"
      ]
     },
     "execution_count": 19,
     "metadata": {},
     "output_type": "execute_result"
    }
   ],
   "source": [
    "train_pools"
   ]
  },
  {
   "cell_type": "markdown",
   "id": "749eeefe",
   "metadata": {
    "papermill": {
     "duration": 0.025013,
     "end_time": "2022-03-14T16:27:02.297383",
     "exception": false,
     "start_time": "2022-03-14T16:27:02.272370",
     "status": "completed"
    },
    "tags": []
   },
   "source": [
    "# Training"
   ]
  },
  {
   "cell_type": "code",
   "execution_count": 16,
   "id": "94841055",
   "metadata": {
    "execution": {
     "iopub.execute_input": "2022-03-14T16:27:02.387541Z",
     "iopub.status.busy": "2022-03-14T16:27:02.386949Z",
     "iopub.status.idle": "2022-03-14T16:30:08.321798Z",
     "shell.execute_reply": "2022-03-14T16:30:08.322714Z",
     "shell.execute_reply.started": "2022-03-14T16:05:57.318676Z"
    },
    "papermill": {
     "duration": 186.000386,
     "end_time": "2022-03-14T16:30:08.322917",
     "exception": false,
     "start_time": "2022-03-14T16:27:02.322531",
     "status": "completed"
    },
    "tags": []
   },
   "outputs": [
    {
     "name": "stdout",
     "output_type": "stream",
     "text": [
      "===Start Train===\n",
      "Train model for label toxic\n",
      "0:\tlearn: 0.6685019\ttest: 0.6761781\tbest: 0.6761781 (0)\ttotal: 16.7ms\tremaining: 1m 23s\n",
      "100:\tlearn: 0.9421952\ttest: 0.9413802\tbest: 0.9413802 (100)\ttotal: 1.12s\tremaining: 54.5s\n",
      "200:\tlearn: 0.9537013\ttest: 0.9472930\tbest: 0.9473977 (191)\ttotal: 2.17s\tremaining: 51.7s\n",
      "300:\tlearn: 0.9601055\ttest: 0.9484918\tbest: 0.9486518 (268)\ttotal: 3.21s\tremaining: 50.1s\n",
      "400:\tlearn: 0.9650146\ttest: 0.9498805\tbest: 0.9498805 (400)\ttotal: 4.26s\tremaining: 48.8s\n",
      "500:\tlearn: 0.9683781\ttest: 0.9508457\tbest: 0.9509888 (496)\ttotal: 5.29s\tremaining: 47.5s\n",
      "600:\tlearn: 0.9713670\ttest: 0.9518200\tbest: 0.9518308 (599)\ttotal: 6.38s\tremaining: 46.7s\n",
      "700:\tlearn: 0.9739548\ttest: 0.9529701\tbest: 0.9529701 (700)\ttotal: 7.44s\tremaining: 45.6s\n",
      "800:\tlearn: 0.9761288\ttest: 0.9535662\tbest: 0.9536126 (788)\ttotal: 8.52s\tremaining: 44.7s\n",
      "900:\tlearn: 0.9780705\ttest: 0.9534857\tbest: 0.9536126 (788)\ttotal: 10s\tremaining: 45.5s\n",
      "1000:\tlearn: 0.9795243\ttest: 0.9534761\tbest: 0.9537410 (922)\ttotal: 11.1s\tremaining: 44.2s\n",
      "1100:\tlearn: 0.9810518\ttest: 0.9532154\tbest: 0.9537410 (922)\ttotal: 12.1s\tremaining: 42.9s\n",
      "1200:\tlearn: 0.9823024\ttest: 0.9531830\tbest: 0.9537410 (922)\ttotal: 13.2s\tremaining: 41.6s\n",
      "1300:\tlearn: 0.9835535\ttest: 0.9528707\tbest: 0.9537410 (922)\ttotal: 14.2s\tremaining: 40.4s\n",
      "1400:\tlearn: 0.9843979\ttest: 0.9532380\tbest: 0.9537410 (922)\ttotal: 15.2s\tremaining: 39.1s\n",
      "bestTest = 0.9537409544\n",
      "bestIteration = 922\n",
      "Shrink model to first 923 iterations.\n",
      "Train model for label severe_toxic\n",
      "0:\tlearn: 0.7647765\ttest: 0.7515611\tbest: 0.7515611 (0)\ttotal: 12.1ms\tremaining: 1m\n",
      "100:\tlearn: 0.9847050\ttest: 0.9619196\tbest: 0.9619381 (99)\ttotal: 1.09s\tremaining: 53.1s\n",
      "200:\tlearn: 0.9900759\ttest: 0.9676327\tbest: 0.9676567 (199)\ttotal: 2.21s\tremaining: 52.7s\n",
      "300:\tlearn: 0.9927201\ttest: 0.9672692\tbest: 0.9694149 (251)\ttotal: 3.27s\tremaining: 51.1s\n",
      "400:\tlearn: 0.9948526\ttest: 0.9662685\tbest: 0.9694149 (251)\ttotal: 4.31s\tremaining: 49.4s\n",
      "500:\tlearn: 0.9959444\ttest: 0.9651011\tbest: 0.9694149 (251)\ttotal: 5.37s\tremaining: 48.3s\n",
      "600:\tlearn: 0.9968131\ttest: 0.9631738\tbest: 0.9694149 (251)\ttotal: 7.53s\tremaining: 55.1s\n",
      "700:\tlearn: 0.9974190\ttest: 0.9603977\tbest: 0.9694149 (251)\ttotal: 8.62s\tremaining: 52.8s\n",
      "bestTest = 0.96941486\n",
      "bestIteration = 251\n",
      "Shrink model to first 252 iterations.\n",
      "Train model for label obscene\n",
      "0:\tlearn: 0.7744017\ttest: 0.7783850\tbest: 0.7783850 (0)\ttotal: 11.9ms\tremaining: 59.5s\n",
      "100:\tlearn: 0.9630565\ttest: 0.9649181\tbest: 0.9649960 (98)\ttotal: 1.43s\tremaining: 1m 9s\n",
      "200:\tlearn: 0.9709878\ttest: 0.9666179\tbest: 0.9667352 (199)\ttotal: 2.48s\tremaining: 59.2s\n",
      "300:\tlearn: 0.9760125\ttest: 0.9660868\tbest: 0.9672130 (211)\ttotal: 3.54s\tremaining: 55.2s\n",
      "400:\tlearn: 0.9794780\ttest: 0.9674244\tbest: 0.9675583 (389)\ttotal: 4.61s\tremaining: 52.9s\n",
      "500:\tlearn: 0.9820001\ttest: 0.9660220\tbest: 0.9675583 (389)\ttotal: 5.67s\tremaining: 50.9s\n",
      "600:\tlearn: 0.9840868\ttest: 0.9661892\tbest: 0.9675583 (389)\ttotal: 6.73s\tremaining: 49.3s\n",
      "700:\tlearn: 0.9858806\ttest: 0.9666903\tbest: 0.9675583 (389)\ttotal: 7.79s\tremaining: 47.8s\n",
      "800:\tlearn: 0.9876362\ttest: 0.9658975\tbest: 0.9675583 (389)\ttotal: 8.87s\tremaining: 46.5s\n",
      "bestTest = 0.9675583243\n",
      "bestIteration = 389\n",
      "Shrink model to first 390 iterations.\n",
      "Train model for label threat\n",
      "0:\tlearn: 0.5106954\ttest: 0.5113855\tbest: 0.5113855 (0)\ttotal: 11.7ms\tremaining: 58.6s\n",
      "100:\tlearn: 0.9839849\ttest: 0.9746847\tbest: 0.9751725 (91)\ttotal: 1.06s\tremaining: 51.4s\n",
      "200:\tlearn: 0.9933283\ttest: 0.9810799\tbest: 0.9815786 (178)\ttotal: 2.13s\tremaining: 51s\n",
      "300:\tlearn: 0.9966208\ttest: 0.9810399\tbest: 0.9824740 (222)\ttotal: 4.31s\tremaining: 1m 7s\n",
      "400:\tlearn: 0.9982684\ttest: 0.9854223\tbest: 0.9859355 (352)\ttotal: 5.5s\tremaining: 1m 3s\n",
      "500:\tlearn: 0.9990093\ttest: 0.9838462\tbest: 0.9859355 (352)\ttotal: 6.55s\tremaining: 58.8s\n",
      "600:\tlearn: 0.9993068\ttest: 0.9822847\tbest: 0.9859355 (352)\ttotal: 7.61s\tremaining: 55.7s\n",
      "700:\tlearn: 0.9996082\ttest: 0.9820882\tbest: 0.9859355 (352)\ttotal: 8.67s\tremaining: 53.2s\n",
      "800:\tlearn: 0.9997660\ttest: 0.9813384\tbest: 0.9859355 (352)\ttotal: 9.72s\tremaining: 51s\n",
      "bestTest = 0.9859355092\n",
      "bestIteration = 352\n",
      "Shrink model to first 353 iterations.\n",
      "Train model for label insult\n",
      "0:\tlearn: 0.7175530\ttest: 0.7084620\tbest: 0.7084620 (0)\ttotal: 12.1ms\tremaining: 1m\n",
      "100:\tlearn: 0.9550885\ttest: 0.9526380\tbest: 0.9526380 (100)\ttotal: 1.11s\tremaining: 54s\n",
      "200:\tlearn: 0.9646116\ttest: 0.9580356\tbest: 0.9583437 (199)\ttotal: 2.19s\tremaining: 52.2s\n",
      "300:\tlearn: 0.9696711\ttest: 0.9611555\tbest: 0.9611555 (300)\ttotal: 3.24s\tremaining: 50.5s\n",
      "400:\tlearn: 0.9736761\ttest: 0.9618829\tbest: 0.9622768 (350)\ttotal: 4.29s\tremaining: 49.2s\n",
      "500:\tlearn: 0.9763680\ttest: 0.9624486\tbest: 0.9624486 (500)\ttotal: 5.35s\tremaining: 48s\n",
      "600:\tlearn: 0.9787599\ttest: 0.9621284\tbest: 0.9625086 (504)\ttotal: 6.41s\tremaining: 46.9s\n",
      "700:\tlearn: 0.9812101\ttest: 0.9624157\tbest: 0.9625086 (504)\ttotal: 7.96s\tremaining: 48.8s\n",
      "800:\tlearn: 0.9830710\ttest: 0.9617729\tbest: 0.9625086 (504)\ttotal: 9.01s\tremaining: 47.2s\n",
      "900:\tlearn: 0.9847303\ttest: 0.9616930\tbest: 0.9625086 (504)\ttotal: 10.1s\tremaining: 45.8s\n",
      "1000:\tlearn: 0.9862988\ttest: 0.9613374\tbest: 0.9625086 (504)\ttotal: 11.2s\tremaining: 44.6s\n",
      "bestTest = 0.9625086486\n",
      "bestIteration = 504\n",
      "Shrink model to first 505 iterations.\n",
      "Train model for label identity_hate\n",
      "0:\tlearn: 0.6446857\ttest: 0.6355541\tbest: 0.6355541 (0)\ttotal: 12.7ms\tremaining: 1m 3s\n",
      "100:\tlearn: 0.9634708\ttest: 0.9454413\tbest: 0.9454413 (100)\ttotal: 1.13s\tremaining: 54.9s\n",
      "200:\tlearn: 0.9791885\ttest: 0.9441941\tbest: 0.9459902 (193)\ttotal: 2.17s\tremaining: 51.9s\n",
      "300:\tlearn: 0.9846332\ttest: 0.9445250\tbest: 0.9462217 (254)\ttotal: 3.24s\tremaining: 50.5s\n",
      "400:\tlearn: 0.9885740\ttest: 0.9415314\tbest: 0.9462217 (254)\ttotal: 4.28s\tremaining: 49.1s\n",
      "500:\tlearn: 0.9911626\ttest: 0.9436285\tbest: 0.9462217 (254)\ttotal: 5.34s\tremaining: 48s\n",
      "600:\tlearn: 0.9933266\ttest: 0.9406988\tbest: 0.9462217 (254)\ttotal: 6.43s\tremaining: 47.1s\n",
      "700:\tlearn: 0.9951526\ttest: 0.9368819\tbest: 0.9462217 (254)\ttotal: 7.51s\tremaining: 46s\n",
      "bestTest = 0.9462217391\n",
      "bestIteration = 254\n",
      "Shrink model to first 255 iterations.\n"
     ]
    }
   ],
   "source": [
    "models = dict()\n",
    "print('===Start Train===')\n",
    "for label in y_label:\n",
    "    print('Train model for label', label)\n",
    "    models[label] = CatBoostClassifier(learning_rate=0.3,\n",
    "                                       task_type='GPU',\n",
    "                                       iterations=5000,\n",
    "                                       eval_metric='AUC',\n",
    "                                       od_type='Iter',\n",
    "                                       od_wait=500,\n",
    "                                       random_state=SEED,\n",
    "                                       **text_proc_param)\n",
    "    models[label].fit(train_pools[label], eval_set=val_pools[label], early_stopping_rounds=500, \n",
    "                      verbose=100, use_best_model=True)"
   ]
  },
  {
   "cell_type": "code",
   "execution_count": 17,
   "id": "fce9a5ff",
   "metadata": {
    "execution": {
     "iopub.execute_input": "2022-03-14T16:30:08.563395Z",
     "iopub.status.busy": "2022-03-14T16:30:08.562716Z",
     "iopub.status.idle": "2022-03-14T16:30:12.066228Z",
     "shell.execute_reply": "2022-03-14T16:30:12.066771Z",
     "shell.execute_reply.started": "2022-03-14T16:04:33.188639Z"
    },
    "papermill": {
     "duration": 3.628287,
     "end_time": "2022-03-14T16:30:12.066927",
     "exception": false,
     "start_time": "2022-03-14T16:30:08.438640",
     "status": "completed"
    },
    "tags": []
   },
   "outputs": [
    {
     "name": "stdout",
     "output_type": "stream",
     "text": [
      "0.9574696026863109\n"
     ]
    }
   ],
   "source": [
    "y_pred_oos = np.zeros((df_test.shape[0], len(y_label)))\n",
    "for idx, label in enumerate(y_label):\n",
    "    y_pred_oos[:, idx] = models[label].predict_proba(oos_pools[label])[:, 1]\n",
    "print(roc_auc_score(df_test[y_label], y_pred_oos))"
   ]
  },
  {
   "cell_type": "markdown",
   "id": "fa522c00",
   "metadata": {
    "papermill": {
     "duration": 0.045917,
     "end_time": "2022-03-14T16:30:12.158665",
     "exception": false,
     "start_time": "2022-03-14T16:30:12.112748",
     "status": "completed"
    },
    "tags": []
   },
   "source": [
    "# Predict and save"
   ]
  },
  {
   "cell_type": "code",
   "execution_count": 18,
   "id": "fe516b71",
   "metadata": {
    "execution": {
     "iopub.execute_input": "2022-03-14T16:30:12.255763Z",
     "iopub.status.busy": "2022-03-14T16:30:12.255026Z",
     "iopub.status.idle": "2022-03-14T16:30:12.323432Z",
     "shell.execute_reply": "2022-03-14T16:30:12.322886Z",
     "shell.execute_reply.started": "2022-03-14T16:23:07.476047Z"
    },
    "papermill": {
     "duration": 0.119138,
     "end_time": "2022-03-14T16:30:12.323568",
     "exception": false,
     "start_time": "2022-03-14T16:30:12.204430",
     "status": "completed"
    },
    "tags": []
   },
   "outputs": [],
   "source": [
    "test_pool = Pool(test_src[['clean_comment']], text_features=['clean_comment'])"
   ]
  },
  {
   "cell_type": "code",
   "execution_count": 19,
   "id": "b0f1b18d",
   "metadata": {
    "execution": {
     "iopub.execute_input": "2022-03-14T16:30:12.427783Z",
     "iopub.status.busy": "2022-03-14T16:30:12.426371Z",
     "iopub.status.idle": "2022-03-14T16:30:49.422969Z",
     "shell.execute_reply": "2022-03-14T16:30:49.422447Z",
     "shell.execute_reply.started": "2022-03-14T16:24:35.880705Z"
    },
    "papermill": {
     "duration": 37.05084,
     "end_time": "2022-03-14T16:30:49.423114",
     "exception": false,
     "start_time": "2022-03-14T16:30:12.372274",
     "status": "completed"
    },
    "tags": []
   },
   "outputs": [],
   "source": [
    "y_pred_test = np.zeros((test_src.shape[0], len(y_label)))\n",
    "for idx, label in enumerate(y_label):\n",
    "    y_pred_test[:, idx] = models[label].predict_proba(test_pool)[:, 1]"
   ]
  },
  {
   "cell_type": "code",
   "execution_count": 20,
   "id": "fad9c031",
   "metadata": {
    "execution": {
     "iopub.execute_input": "2022-03-14T16:30:49.519802Z",
     "iopub.status.busy": "2022-03-14T16:30:49.518713Z",
     "iopub.status.idle": "2022-03-14T16:30:49.524906Z",
     "shell.execute_reply": "2022-03-14T16:30:49.525271Z",
     "shell.execute_reply.started": "2022-03-14T16:25:16.701336Z"
    },
    "papermill": {
     "duration": 0.056484,
     "end_time": "2022-03-14T16:30:49.525399",
     "exception": false,
     "start_time": "2022-03-14T16:30:49.468915",
     "status": "completed"
    },
    "tags": []
   },
   "outputs": [],
   "source": [
    "y_pred_test"
   ]
  },
  {
   "cell_type": "code",
   "execution_count": null,
   "id": "e2748469",
   "metadata": {
    "execution": {
     "iopub.execute_input": "2022-03-14T16:30:49.627056Z",
     "iopub.status.busy": "2022-03-14T16:30:49.626377Z",
     "iopub.status.idle": "2022-03-14T16:30:49.629136Z",
     "shell.execute_reply": "2022-03-14T16:30:49.629519Z",
     "shell.execute_reply.started": "2022-03-14T16:25:17.661130Z"
    },
    "papermill": {
     "duration": 0.05872,
     "end_time": "2022-03-14T16:30:49.629678",
     "exception": false,
     "start_time": "2022-03-14T16:30:49.570958",
     "status": "completed"
    },
    "tags": []
   },
   "outputs": [],
   "source": [
    "prediction = pd.DataFrame(y_pred_test, columns=y_label)"
   ]
  },
  {
   "cell_type": "code",
   "execution_count": null,
   "id": "1bf63ed0",
   "metadata": {},
   "outputs": [],
   "source": [
    "prediction.to_csv('submission.csv', index=False)"
   ]
  },
  {
   "cell_type": "code",
   "execution_count": 22,
   "id": "17f226d7",
   "metadata": {
    "execution": {
     "iopub.execute_input": "2022-03-14T16:30:49.724573Z",
     "iopub.status.busy": "2022-03-14T16:30:49.723922Z",
     "iopub.status.idle": "2022-03-14T16:30:51.585163Z",
     "shell.execute_reply": "2022-03-14T16:30:51.584525Z",
     "shell.execute_reply.started": "2022-03-14T16:25:34.374248Z"
    },
    "papermill": {
     "duration": 1.909993,
     "end_time": "2022-03-14T16:30:51.585300",
     "exception": false,
     "start_time": "2022-03-14T16:30:49.675307",
     "status": "completed"
    },
    "tags": []
   },
   "outputs": [],
   "source": [
    "ss.to_csv('submission.csv', index=False)"
   ]
  },
  {
   "cell_type": "code",
   "execution_count": null,
   "id": "ee06c732",
   "metadata": {
    "papermill": {
     "duration": 0.045747,
     "end_time": "2022-03-14T16:30:51.677221",
     "exception": false,
     "start_time": "2022-03-14T16:30:51.631474",
     "status": "completed"
    },
    "tags": []
   },
   "outputs": [],
   "source": [
    "prediction.head()"
   ]
  }
 ],
 "metadata": {
  "kernelspec": {
   "display_name": "Python 3",
   "language": "python",
   "name": "python3"
  },
  "language_info": {
   "codemirror_mode": {
    "name": "ipython",
    "version": 3
   },
   "file_extension": ".py",
   "mimetype": "text/x-python",
   "name": "python",
   "nbconvert_exporter": "python",
   "pygments_lexer": "ipython3",
   "version": "3.8.8"
  },
  "papermill": {
   "default_parameters": {},
   "duration": 274.855255,
   "end_time": "2022-03-14T16:30:52.433550",
   "environment_variables": {},
   "exception": null,
   "input_path": "__notebook__.ipynb",
   "output_path": "__notebook__.ipynb",
   "parameters": {},
   "start_time": "2022-03-14T16:26:17.578295",
   "version": "2.3.3"
  }
 },
 "nbformat": 4,
 "nbformat_minor": 5
}
